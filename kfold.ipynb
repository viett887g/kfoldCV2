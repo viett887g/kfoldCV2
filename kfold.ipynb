{
  "nbformat": 4,
  "nbformat_minor": 0,
  "metadata": {
    "colab": {
      "provenance": [],
      "authorship_tag": "ABX9TyNm/43dERpmKZp7m2Pqr2+q",
      "include_colab_link": true
    },
    "kernelspec": {
      "name": "python3",
      "display_name": "Python 3"
    },
    "language_info": {
      "name": "python"
    }
  },
  "cells": [
    {
      "cell_type": "markdown",
      "metadata": {
        "id": "view-in-github",
        "colab_type": "text"
      },
      "source": [
        "<a href=\"https://colab.research.google.com/github/viett887g/kfoldCV2/blob/main/kfold.ipynb\" target=\"_parent\"><img src=\"https://colab.research.google.com/assets/colab-badge.svg\" alt=\"Open In Colab\"/></a>"
      ]
    },
    {
      "cell_type": "code",
      "execution_count": 10,
      "metadata": {
        "id": "IaeAwDdux-vB"
      },
      "outputs": [],
      "source": [
        "import numpy as np\n",
        "import os\n",
        "from sklearn.model_selection import train_test_split\n",
        "from sklearn import preprocessing\n",
        "from sklearn.model_selection import KFold\n",
        "from sklearn.metrics import mean_squared_error\n",
        "from sklearn.linear_model import LinearRegression"
      ]
    },
    {
      "cell_type": "code",
      "source": [
        "def readfile(folder, filename):\n",
        "  D = np.loadtxt(os.path.join(folder, filename), delimiter=',')\n",
        "  D = preprocessing.MinMaxScaler().fit_transform(D)\n",
        "  X, y = D[:, :-1], D[:, -1]\n",
        "  X_train, X_test, y_train, y_test = train_test_split(X, y, test_size=0.30,random_state=15)\n",
        "  w_opt = np.zeros((X.shape[1], 1))\n",
        "  return  X_train, X_test, y_train, y_test,w_opt"
      ],
      "metadata": {
        "id": "axRO4eE4yKwp"
      },
      "execution_count": 23,
      "outputs": []
    },
    {
      "cell_type": "code",
      "source": [
        "def mse(y,y_hat):\n",
        "   return mean_squared_error(y, y_hat)"
      ],
      "metadata": {
        "id": "LX6fAC4n0ENv"
      },
      "execution_count": 27,
      "outputs": []
    },
    {
      "cell_type": "code",
      "source": [
        "def main():\n",
        "  X_train, X_test, y_train, y_test,w_opt=readfile(\"/content\",\"ex1data1.txt\")\n",
        "  kf = KFold(n_splits=10)\n",
        "  print('Huấn luyện mô hình LinearRegression với k-fold')\n",
        "  model = LinearRegression()\n",
        "  \n",
        "  step = 0\n",
        "  for train2_index, val_index in kf.split(X = X_train,y = y_train):\n",
        "    step = step + 1\n",
        "  \n",
        "    print('\\tBước lặp huấn luyện thứ: ', step)\n",
        "  \n",
        "    X_train2, X_val = X_train[train2_index], X_train[val_index]\n",
        "    y_train2, y_val = y_train[train2_index], y_train[val_index]\n",
        "    \n",
        "    model.fit(X_train2, y_train2)\n",
        "    print('\\t\\tĐánh giá mô hình trên tập dữ liệu validation')\n",
        "    y_hat = model.predict(X_val)\n",
        "    print('\\t\\t\\tMSE: ', mean_squared_error(y_val, y_hat))\n",
        "  print('ĐÁNH GIÁ HIỆU NĂNG CỦA MÔ HÌNH TRÊN TẬP DỮ LIỆU TEST')\n",
        "  y_hat = model.predict(X_test)\n",
        "  print(\" su dung sklearn \",mse(y_test,y_hat))\n",
        "main()"
      ],
      "metadata": {
        "colab": {
          "base_uri": "https://localhost:8080/"
        },
        "id": "k_Ga8MoPyqsA",
        "outputId": "6f0615cb-8c15-4462-9630-4381af444c09"
      },
      "execution_count": 37,
      "outputs": [
        {
          "output_type": "stream",
          "name": "stdout",
          "text": [
            "Huấn luyện mô hình LinearRegression với k-fold\n",
            "\tBước lặp huấn luyện thứ:  1\n",
            "\t\tĐánh giá mô hình trên tập dữ liệu validation\n",
            "\t\t\tMSE:  0.003079660863815114\n",
            "\tBước lặp huấn luyện thứ:  2\n",
            "\t\tĐánh giá mô hình trên tập dữ liệu validation\n",
            "\t\t\tMSE:  0.009675182192912418\n",
            "\tBước lặp huấn luyện thứ:  3\n",
            "\t\tĐánh giá mô hình trên tập dữ liệu validation\n",
            "\t\t\tMSE:  0.008716268565567996\n",
            "\tBước lặp huấn luyện thứ:  4\n",
            "\t\tĐánh giá mô hình trên tập dữ liệu validation\n",
            "\t\t\tMSE:  0.02480564066599533\n",
            "\tBước lặp huấn luyện thứ:  5\n",
            "\t\tĐánh giá mô hình trên tập dữ liệu validation\n",
            "\t\t\tMSE:  0.007848835392603715\n",
            "\tBước lặp huấn luyện thứ:  6\n",
            "\t\tĐánh giá mô hình trên tập dữ liệu validation\n",
            "\t\t\tMSE:  0.0118394077788191\n",
            "\tBước lặp huấn luyện thứ:  7\n",
            "\t\tĐánh giá mô hình trên tập dữ liệu validation\n",
            "\t\t\tMSE:  0.005316266100126322\n",
            "\tBước lặp huấn luyện thứ:  8\n",
            "\t\tĐánh giá mô hình trên tập dữ liệu validation\n",
            "\t\t\tMSE:  0.009732698055258312\n",
            "\tBước lặp huấn luyện thứ:  9\n",
            "\t\tĐánh giá mô hình trên tập dữ liệu validation\n",
            "\t\t\tMSE:  0.007890467548239714\n",
            "\tBước lặp huấn luyện thứ:  10\n",
            "\t\tĐánh giá mô hình trên tập dữ liệu validation\n",
            "\t\t\tMSE:  0.05881459110381073\n",
            "ĐÁNH GIÁ HIỆU NĂNG CỦA MÔ HÌNH TRÊN TẬP DỮ LIỆU TEST\n",
            " su dung sklearn  0.010688347473338192\n"
          ]
        }
      ]
    }
  ]
}